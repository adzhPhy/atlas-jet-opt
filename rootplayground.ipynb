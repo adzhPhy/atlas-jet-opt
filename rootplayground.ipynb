{
 "cells": [
  {
   "cell_type": "code",
   "execution_count": 20,
   "id": "1e5063a5-143c-4949-ba81-c09ec566abe7",
   "metadata": {},
   "outputs": [],
   "source": [
    "# for evt\n",
    "# for jet\n",
    "# check if there exists a reconstr jet delR = sqrt(del eta^2 + del phi^2) < 0.4\n",
    "# use boolean in a for loop and check if there are reconstr jets which match -> if there are -> break"
   ]
  },
  {
   "cell_type": "code",
   "execution_count": 1,
   "id": "85898f6d-ce14-4ccf-8fc5-4073a0995d5b",
   "metadata": {},
   "outputs": [],
   "source": [
    "import uproot\n",
    "filename=\"user.tapark.41935082._000001.tree.root\"\n",
    "file = uproot.open(filename)\n",
    "tree = file[\"JetConstituentTree\"]\n",
    "# tree.show()\n",
    "\n",
    "# to read TBranch ; NOTE: use entry_start, entry_stop to read only specific amounts of entry for optimization\n",
    "# tree.arrays(['truthJet_pt', 'truthJet_eta', 'truthJet_phi', 'truthJet_m'], library=\"np\")\n",
    "truth_jets = tree.arrays(['truthJet_pt', 'truthJet_eta', 'truthJet_phi', 'truthJet_m'], library=\"np\", entry_stop=1000)\n",
    "# add filtering on truth jets: cut=\"truthJet_m >= 20000\"\n",
    "reco_jets = tree.arrays(['jet_pt', 'jet_eta', 'jet_phi', 'jet_m'], library=\"np\", entry_stop=1000)\n",
    "\n",
    "# truth_jets\n"
   ]
  },
  {
   "cell_type": "code",
   "execution_count": 2,
   "id": "3f650e3e-f30b-433c-87ea-7768df43647c",
   "metadata": {},
   "outputs": [],
   "source": [
    "import vector\n",
    "# define MomentumObject4D\n",
    "def constructFourMomentum(pt_val : float | None, phi_val : float | None, eta_val : float | None, m_val: float | None) -> vector.MomentumObject4D:\n",
    "    return vector.MomentumObject4D(pt=pt_val, phi=phi_val, eta=eta_val, m=m_val)\n",
    "\n",
    "def truthVar(varType, eventNum, jetNum):\n",
    "    if varType == \"truthJet_pt\":\n",
    "        if len(truth_jets[eventNum]['truthJet_pt']) != 0:\n",
    "            return truth_jets[eventNum]['truthJet_pt'][jetNum]\n",
    "        else:\n",
    "            return None\n",
    "    if varType == \"truthJet_phi\":\n",
    "        if len(truth_jets[eventNum]['truthJet_phi']) != 0:\n",
    "            return truth_jets[eventNum]['truthJet_phi'][jetNum]\n",
    "        else:\n",
    "            return None\n",
    "    if varType == \"truthJet_eta\":\n",
    "        if len(truth_jets[eventNum]['truthJet_eta']) != 0:\n",
    "            return truth_jets[eventNum]['truthJet_eta'][jetNum]\n",
    "        else:\n",
    "            return None\n",
    "    if varType == \"truthJet_m\":\n",
    "        if len(truth_jets[eventNum]['truthJet_m']) != 0:\n",
    "            return truth_jets[eventNum]['truthJet_m'][jetNum]\n",
    "        else:\n",
    "            return None\n",
    "\n",
    "def recoVar(varType, eventNum, jetNum):\n",
    "    if varType == \"jet_pt\":\n",
    "        if len(reco_jets[eventNum]['jet_pt']) != 0:\n",
    "            return reco_jets[eventNum]['jet_pt'][jetNum]\n",
    "        else:\n",
    "            return None\n",
    "    if varType == \"jet_phi\":\n",
    "        if len(reco_jets[eventNum]['jet_phi']) != 0:\n",
    "            return reco_jets[eventNum]['jet_phi'][jetNum]\n",
    "        else:\n",
    "            return None\n",
    "    if varType == \"jet_eta\":\n",
    "        if len(reco_jets[eventNum]['jet_eta']) != 0:\n",
    "            return reco_jets[eventNum]['jet_eta'][jetNum]\n",
    "        else:\n",
    "            return None\n",
    "    if varType == \"jet_m\":\n",
    "        if len(reco_jets[eventNum]['jet_m']) != 0:\n",
    "            return reco_jets[eventNum]['jet_m'][jetNum]\n",
    "        else:\n",
    "            return None\n",
    "    "
   ]
  },
  {
   "cell_type": "code",
   "execution_count": null,
   "id": "bf2ae700-edfe-4572-8096-52aafa08ae66",
   "metadata": {},
   "outputs": [],
   "source": []
  },
  {
   "cell_type": "code",
   "execution_count": 82,
   "id": "3471eb38-4b44-467d-bec3-b0c5f9534fc8",
   "metadata": {},
   "outputs": [
    {
     "data": {
      "text/plain": [
       "list"
      ]
     },
     "execution_count": 82,
     "metadata": {},
     "output_type": "execute_result"
    }
   ],
   "source": [
    "# import awkward as ak\n",
    "\n",
    "# builder = ak.ArrayBuilder()\n",
    "\n",
    "# # Append some values\n",
    "# builder.append(1)  # integer\n",
    "# builder.append(True)  # boolean\n",
    "# builder.append(None)  # null\n",
    "# builder.append({\"x\": 1, \"y\": [2, 3]})  # dictionary with list\n",
    "\n",
    "# builder.begin_list()\n",
    "# builder.append(3)\n",
    "# builder.append([1,2])\n",
    "# builder.end_list()\n",
    "\n",
    "# builder.to_list()"
   ]
  },
  {
   "cell_type": "code",
   "execution_count": 77,
   "id": "b1eb08e3-0ba1-4da8-a319-14301a90c4a6",
   "metadata": {},
   "outputs": [],
   "source": [
    "# import awkward as ak\n",
    "# comparedjetsfilename = \"user.tapark.41935082._000001.tree.compareTrueRecoJets.root\"\n",
    "# output = uproot.update(comparedjetsfilename)\n",
    "\n",
    "# output.extend(\"JetConstituentTree\", {\"TruthJetXIsReco\": }) \n",
    "\n",
    "# # comparedJetsFile = uproot.open(comparedjetsfilename)\n",
    "# # comparedJetsTree = comparedJetsFile[\"JetConstituentTree\"]\n",
    "# # comparedJetsTree.keys()"
   ]
  },
  {
   "cell_type": "code",
   "execution_count": null,
   "id": "f93399bb",
   "metadata": {},
   "outputs": [],
   "source": []
  },
  {
   "cell_type": "code",
   "execution_count": 40,
   "id": "78415de2-c906-40f4-9fe5-61ebae7a2011",
   "metadata": {},
   "outputs": [
    {
     "ename": "",
     "evalue": "",
     "output_type": "error",
     "traceback": [
      "\u001b[1;31mThe Kernel crashed while executing code in the current cell or a previous cell. \n",
      "\u001b[1;31mPlease review the code in the cell(s) to identify a possible cause of the failure. \n",
      "\u001b[1;31mClick <a href='https://aka.ms/vscodeJupyterKernelCrash'>here</a> for more info. \n",
      "\u001b[1;31mView Jupyter <a href='command:jupyter.viewOutput'>log</a> for further details."
     ]
    }
   ],
   "source": [
    "import awkward as ak\n",
    "comparedjetsfilename = \"user.tapark.41935082._000001.tree.compareTrueRecoJets.root\"\n",
    "\n",
    "\n",
    "builder = ak.ArrayBuilder()\n",
    "eventShow = []\n",
    "\n",
    "eventsNum = len(truth_jets)\n",
    "# loop through events\n",
    "for eventNum in range(eventsNum):\n",
    "    # start a list for an event\n",
    "    builder.begin_list()\n",
    "    if ( len(truth_jets[eventNum]['truthJet_pt']) == 0 and\n",
    "        len(truth_jets[eventNum]['truthJet_phi']) == 0 and\n",
    "        len(truth_jets[eventNum]['truthJet_eta']) == 0 and\n",
    "        len(truth_jets[eventNum]['truthJet_m']) == 0 ):\n",
    "        continue\n",
    "    else:\n",
    "        l = len(truth_jets[eventNum]['truthJet_pt'])\n",
    "        k = len(reco_jets[eventNum]['jet_pt'])\n",
    "        for truthJetNum in range(l):\n",
    "            # start a list for a truth jet\n",
    "            builder.begin_list()\n",
    "            var_pt = truthVar(\"truthJet_pt\", eventNum, truthJetNum)\n",
    "            var_phi = truthVar(\"truthJet_phi\", eventNum, truthJetNum)\n",
    "            var_eta = truthVar(\"truthJet_eta\", eventNum, truthJetNum)\n",
    "            var_m = truthVar(\"truthJet_m\", eventNum, truthJetNum)\n",
    "            m20GeV_flag = False\n",
    "            if var_m >= 20000:\n",
    "                m20GeV_flag = True\n",
    "            p_truth = constructFourMomentum(var_pt, var_phi, var_eta, var_m)\n",
    "            \n",
    "            for recoJetNum in range(k):\n",
    "                var_pt = recoVar(\"jet_pt\", eventNum, recoJetNum)\n",
    "                var_phi = recoVar(\"jet_phi\", eventNum, recoJetNum)\n",
    "                var_eta = recoVar(\"jet_eta\", eventNum, recoJetNum)\n",
    "                var_m = recoVar(\"jet_m\", eventNum, recoJetNum)\n",
    "                p_reco = constructFourMomentum(var_pt, var_phi, var_eta, var_m)\n",
    "                dR = p_truth.deltaR(p_reco)\n",
    "                if dR < 0.4 and m20GeV_flag:\n",
    "                    builder.append(1)\n",
    "                    eventShow.append(1)\n",
    "                elif dR < 0.4:\n",
    "                    builder.append(-1)\n",
    "                else:\n",
    "                    builder.append(0)\n",
    "            # close truth jet list\n",
    "            builder.end_list()\n",
    "    # close event list\n",
    "    builder.end_list()\n",
    "\n",
    "# eventList = builder.to_list()\n",
    "eventShow\n",
    "# output = uproot.recreate(comparedjetsfilename)\n",
    "# output.mktree(\"TruthJetXIsReco\", {\"IsReco\": builder.to_list.type})\n",
    "# output[\"TruthJetXIsReco\"].exnted({\"IsReco\": builder.to_list})"
   ]
  },
  {
   "cell_type": "code",
   "execution_count": null,
   "id": "e5041f3a-abc2-4d37-946e-accb01befe89",
   "metadata": {},
   "outputs": [],
   "source": [
    "# TO DO: Histogram over eta of all truth jets vs matched jets"
   ]
  }
 ],
 "metadata": {
  "kernelspec": {
   "display_name": "atlas",
   "language": "python",
   "name": "python3"
  },
  "language_info": {
   "codemirror_mode": {
    "name": "ipython",
    "version": 3
   },
   "file_extension": ".py",
   "mimetype": "text/x-python",
   "name": "python",
   "nbconvert_exporter": "python",
   "pygments_lexer": "ipython3",
   "version": "3.10.15"
  }
 },
 "nbformat": 4,
 "nbformat_minor": 5
}
