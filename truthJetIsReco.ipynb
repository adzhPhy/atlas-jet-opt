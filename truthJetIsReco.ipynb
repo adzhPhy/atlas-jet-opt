{
 "cells": [
  {
   "cell_type": "code",
   "execution_count": 86,
   "metadata": {},
   "outputs": [],
   "source": [
    "import uproot, vector, awkward as ak\n",
    "\n",
    "filename=\"user.tapark.41935082._000001.tree.root\"\n",
    "file = uproot.open(filename)\n",
    "tree = file[\"JetConstituentTree\"]\n",
    "# tree.show()\n",
    "# to read TBranch ; NOTE: use entry_start, entry_stop to read only specific amounts of entry for optimization\n",
    "tjets = tree.arrays(['truthJet_pt', 'truthJet_eta', 'truthJet_phi', 'truthJet_m'], library=\"np\")\n",
    "# add filtering on truth jets: cut=\"truthJet_m >= 20000\"\n",
    "reco_jets = tree.arrays(['jet_pt', 'jet_eta', 'jet_phi', 'jet_m'], library=\"np\")\n"
   ]
  },
  {
   "cell_type": "code",
   "execution_count": 39,
   "metadata": {},
   "outputs": [
    {
     "data": {
      "text/plain": [
       "[]"
      ]
     },
     "execution_count": 39,
     "metadata": {},
     "output_type": "execute_result"
    }
   ],
   "source": [
    "# filter M = 20 GeV truth jets\n",
    "m20gev_tjets = [ event for event in truth_jets['truthJet_m'] if any(y>=20000 for y in event) ]\n",
    "m20gev_tjets"
   ]
  },
  {
   "cell_type": "code",
   "execution_count": null,
   "metadata": {},
   "outputs": [
    {
     "ename": "TypeError",
     "evalue": "Argument 'pt_values' has incorrect type (expected numpy.ndarray, got list)",
     "output_type": "error",
     "traceback": [
      "\u001b[0;31m---------------------------------------------------------------------------\u001b[0m",
      "\u001b[0;31mTypeError\u001b[0m                                 Traceback (most recent call last)",
      "Cell \u001b[0;32mIn[88], line 15\u001b[0m\n\u001b[1;32m     12\u001b[0m     momentum_objects \u001b[38;5;241m=\u001b[39m momentum4D_cython\u001b[38;5;241m.\u001b[39mcompute_momentum4d(truth_jets_pt, truth_jets_phi, truth_jets_eta, truth_jets_m)\n\u001b[1;32m     13\u001b[0m     \u001b[38;5;28;01mreturn\u001b[39;00m momentum_objects[:\u001b[38;5;241m10\u001b[39m]\n\u001b[0;32m---> 15\u001b[0m \u001b[43mmain\u001b[49m\u001b[43m(\u001b[49m\u001b[43m)\u001b[49m\n",
      "Cell \u001b[0;32mIn[88], line 12\u001b[0m, in \u001b[0;36mmain\u001b[0;34m()\u001b[0m\n\u001b[1;32m      9\u001b[0m truth_jets_eta \u001b[38;5;241m=\u001b[39m [ event \u001b[38;5;28;01mfor\u001b[39;00m event \u001b[38;5;129;01min\u001b[39;00m tjets[\u001b[38;5;124m\"\u001b[39m\u001b[38;5;124mtruthJet_eta\u001b[39m\u001b[38;5;124m\"\u001b[39m] \u001b[38;5;28;01mif\u001b[39;00m \u001b[38;5;28mlen\u001b[39m(event)\u001b[38;5;241m!=\u001b[39m\u001b[38;5;241m0\u001b[39m ]\n\u001b[1;32m     10\u001b[0m truth_jets_m \u001b[38;5;241m=\u001b[39m [ event \u001b[38;5;28;01mfor\u001b[39;00m event \u001b[38;5;129;01min\u001b[39;00m tjets[\u001b[38;5;124m\"\u001b[39m\u001b[38;5;124mtruthJet_m\u001b[39m\u001b[38;5;124m\"\u001b[39m] \u001b[38;5;28;01mif\u001b[39;00m \u001b[38;5;28mlen\u001b[39m(event)\u001b[38;5;241m!=\u001b[39m\u001b[38;5;241m0\u001b[39m ]\n\u001b[0;32m---> 12\u001b[0m momentum_objects \u001b[38;5;241m=\u001b[39m \u001b[43mmomentum4D_cython\u001b[49m\u001b[38;5;241;43m.\u001b[39;49m\u001b[43mcompute_momentum4d\u001b[49m\u001b[43m(\u001b[49m\u001b[43mtruth_jets_pt\u001b[49m\u001b[43m,\u001b[49m\u001b[43m \u001b[49m\u001b[43mtruth_jets_phi\u001b[49m\u001b[43m,\u001b[49m\u001b[43m \u001b[49m\u001b[43mtruth_jets_eta\u001b[49m\u001b[43m,\u001b[49m\u001b[43m \u001b[49m\u001b[43mtruth_jets_m\u001b[49m\u001b[43m)\u001b[49m\n\u001b[1;32m     13\u001b[0m \u001b[38;5;28;01mreturn\u001b[39;00m momentum_objects[:\u001b[38;5;241m10\u001b[39m]\n",
      "\u001b[0;31mTypeError\u001b[0m: Argument 'pt_values' has incorrect type (expected numpy.ndarray, got list)"
     ]
    }
   ],
   "source": [
    "import numpy as np\n",
    "import momentum4D_cython\n",
    "\n",
    "\n",
    "def main():\n",
    "\n",
    "    # FILTER INPUT DATA HERE\n",
    "    truth_jets_pt = [ event for event in tjets[\"truthJet_pt\"] if len(event)!=0 ]\n",
    "    truth_jets_phi = [ event for event in tjets[\"truthJet_phi\"] if len(event)!=0 ]\n",
    "    truth_jets_eta = [ event for event in tjets[\"truthJet_eta\"] if len(event)!=0 ]\n",
    "    truth_jets_m = [ event for event in tjets[\"truthJet_m\"] if len(event)!=0 ]\n",
    "\n",
    "    # PASS DATA TO CYTHON SCRIPT\n",
    "    momentum_objects = momentum4D_cython.compute_momentum4d(truth_jets_pt, truth_jets_phi, truth_jets_eta, truth_jets_m)\n",
    "    return momentum_objects[:10]\n",
    "\n",
    "# main()\n",
    "# TRY AWKWARD ARRAYS ZIP AND PASS THAT THRU CYTHON"
   ]
  },
  {
   "cell_type": "code",
   "execution_count": null,
   "metadata": {},
   "outputs": [],
   "source": []
  }
 ],
 "metadata": {
  "kernelspec": {
   "display_name": "atlas",
   "language": "python",
   "name": "python3"
  },
  "language_info": {
   "codemirror_mode": {
    "name": "ipython",
    "version": 3
   },
   "file_extension": ".py",
   "mimetype": "text/x-python",
   "name": "python",
   "nbconvert_exporter": "python",
   "pygments_lexer": "ipython3",
   "version": "3.10.15"
  }
 },
 "nbformat": 4,
 "nbformat_minor": 2
}
